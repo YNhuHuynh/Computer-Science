{
 "cells": [
  {
   "cell_type": "markdown",
   "id": "c7b8863a-fd2b-4aeb-a1a5-8a55591b1536",
   "metadata": {},
   "source": [
    "# Exercise 2: Play with AlexNet Implementation\n",
    "\n",
    "Next, let's load a pre-trained AlexNet model and run it on an image, for example our dog image from Exercise 1."
   ]
  },
  {
   "cell_type": "code",
   "execution_count": 2,
   "id": "e50e0f1e-f173-4b9d-8334-213ce45a48df",
   "metadata": {},
   "outputs": [
    {
     "name": "stdout",
     "output_type": "stream",
     "text": [
      "tensor([7.4840e-01, 2.5155e-01, 4.3449e-05, 6.1707e-06, 1.0243e-06],\n",
      "       grad_fn=<IndexBackward0>)\n",
      "Label 0 (231): collie\n",
      "Label 1 (230): Shetland sheepdog, Shetland sheep dog, Shetland\n",
      "Label 2 (157): papillon\n",
      "Label 3 (263): Pembroke, Pembroke Welsh corgi\n",
      "Label 4 (261): keeshond\n"
     ]
    }
   ],
   "source": [
    "import torch\n",
    "import torchvision\n",
    "import os\n",
    "from PIL import Image\n",
    "import ast\n",
    "\n",
    "# Load pretrained AlexNet model\n",
    "\n",
    "os.environ['http_proxy'] = 'http://192.41.170.23:3128'\n",
    "os.environ['https_proxy'] = 'http://192.41.170.23:3128'\n",
    "\n",
    "model = torchvision.models.alexnet(pretrained=True)\n",
    "model.eval()\n",
    "\n",
    "# Load image and convert to appropriate tensor\n",
    "\n",
    "# The AlexNet network expects an input as a 4D tensor.\n",
    "# Dim 0: batch index\n",
    "# Dim 1: channel index\n",
    "# Dim 2: row index\n",
    "# Dim 3: col index\n",
    "\n",
    "# Need to read image as PIL object, convert to tensor, normalize the image intensities according ImageNet's means and stdevs\n",
    "\n",
    "im = Image.open(\"dog.jpg\")\n",
    "\n",
    "transforms = torchvision.transforms.Compose([\n",
    "    torchvision.transforms.ToTensor(),\n",
    "    torchvision.transforms.Resize(256),\n",
    "    torchvision.transforms.CenterCrop(224),\n",
    "    torchvision.transforms.Normalize((0.485, 0.456, 0.406), (0.229, 0.224, 0.225)),\n",
    "])\n",
    "\n",
    "img_tensor = transforms(im).unsqueeze(0)\n",
    "\n",
    "# Run input through the model and get the top 5 labels\n",
    "\n",
    "output = model(img_tensor)\n",
    "values, indices = torch.topk(output, 5, dim=1)\n",
    "probs = torch.nn.Softmax(1)(output)\n",
    "print(probs[0][indices[0]])\n",
    "\n",
    "# Get ImageNet class labels\n",
    "\n",
    "with open('imagenet1000_clsidx_to_labels.txt') as f:\n",
    "    label_data = f.read()\n",
    "class_labels = ast.literal_eval(label_data)\n",
    "\n",
    "# Print out top 5 labels for this image\n",
    "\n",
    "for i in range(5):\n",
    "    class_index = indices[0][i].item()\n",
    "    print('Label %d (%d): %s' % (i, class_index, class_labels[class_index]))"
   ]
  },
  {
   "cell_type": "code",
   "execution_count": null,
   "id": "d2eee753-9045-405e-b7ce-7ff81ddd2e9e",
   "metadata": {},
   "outputs": [],
   "source": []
  }
 ],
 "metadata": {
  "kernelspec": {
   "display_name": "base",
   "language": "python",
   "name": "python3"
  },
  "language_info": {
   "codemirror_mode": {
    "name": "ipython",
    "version": 3
   },
   "file_extension": ".py",
   "mimetype": "text/x-python",
   "name": "python",
   "nbconvert_exporter": "python",
   "pygments_lexer": "ipython3",
   "version": "3.9.12"
  },
  "vscode": {
   "interpreter": {
    "hash": "b8e2edd04290db5de47ecd859b998e39e98690aa0bf4ac3f16002de3e35da010"
   }
  }
 },
 "nbformat": 4,
 "nbformat_minor": 5
}
