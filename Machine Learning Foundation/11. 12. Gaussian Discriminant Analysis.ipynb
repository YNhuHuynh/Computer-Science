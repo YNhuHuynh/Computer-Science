{
 "cells": [
  {
   "cell_type": "markdown",
   "id": "ba8d1166-18a4-48e3-9a95-2cc66f6b81c0",
   "metadata": {},
   "source": [
    "# Gaussian Discriminant Analysis\n",
    "\n",
    "Any time we have a classification problem in which the class-conditional data\n",
    "are nearly Gaussian, this method would be nearly optimal.\n",
    "\n",
    "To demonstrate, let's generate data from two overlapping 2D Gaussians.\n",
    "\n",
    "The Gaussian density is defined as\n",
    "\n",
    "$$p(\\mathbf{x}; \\mu, \\sigma) = \\frac{1}{(2\\pi)^{(k/2)}|\\sigma|^{(1/2)}}e^{-\\frac{1}{2}(\\mathbf{x}-\\mu)\\sigma^{-1}(\\mathbf{x}-\\mu)}$$"
   ]
  },
  {
   "cell_type": "code",
   "execution_count": 1,
   "id": "4d2ad96d-89ae-47a2-a8ea-22d23425ac99",
   "metadata": {},
   "outputs": [
    {
     "data": {
      "image/png": "[encoded data removed]",
      "text/plain": [
       "<Figure size 432x288 with 1 Axes>"
      ]
     },
     "metadata": {
      "needs_background": "light"
     },
     "output_type": "display_data"
    }
   ],
   "source": [
    "import numpy as np\n",
    "import matplotlib.pyplot as plt\n",
    "\n",
    "# Synthetic data\n",
    "\n",
    "mu1 = np.array([10, 10])\n",
    "mu2 = np.array([10, 10])\n",
    "\n",
    "sigma1 = np.array([[15, 12], [12, 15]])\n",
    "sigma2 = np.array([[15, -12], [-12, 15]])\n",
    "\n",
    "X1 = np.random.multivariate_normal(mu1, sigma1, 300)\n",
    "X2 = np.random.multivariate_normal(mu2, sigma2, 100)\n",
    "\n",
    "plt.plot(X1[:,0], X1[:,1], 'ro')\n",
    "plt.plot(X2[:,0], X2[:,1], 'go')\n",
    "plt.show()\n"
   ]
  },
  {
   "cell_type": "markdown",
   "id": "3d4daafe-595f-4ffc-8225-0d8ab2bbdac8",
   "metadata": {},
   "source": [
    "Given these data, we estimate the parameters of the GDA from the data."
   ]
  },
  {
   "cell_type": "code",
   "execution_count": 2,
   "id": "dfe45367-d22c-44ed-b833-046b6a01358a",
   "metadata": {},
   "outputs": [],
   "source": [
    "X = np.concatenate((X1, X2), 0)\n",
    "y = np.concatenate((np.zeros((X1.shape[0], 1)), np.ones((X2.shape[0], 1))), 0)"
   ]
  },
  {
   "cell_type": "code",
   "execution_count": 3,
   "id": "1ad160d1-fe94-4bea-be1f-805eceb148b2",
   "metadata": {},
   "outputs": [],
   "source": [
    "def gauss_density(X, mu, sigma):\n",
    "    k = X.shape[1]\n",
    "    siginv = np.linalg.inv(sigma)\n",
    "    d = np.zeros((X.shape[0], 1))\n",
    "    for i in range(X.shape[0]):\n",
    "        x = X[i,:]\n",
    "        d[i] = -0.5 * (x-mu) @ siginv @ (x-mu)\n",
    "    return (2 * np.pi)**(-k/2) / np.sqrt(np.linalg.det(sigma)) * np.exp(d)\n"
   ]
  },
  {
   "cell_type": "code",
   "execution_count": 4,
   "id": "17015b81-06a2-4570-bacd-1ecda23cd652",
   "metadata": {},
   "outputs": [],
   "source": [
    "\n",
    "def gda_infer(X,y,means,covariances,p_ys):\n",
    "    mu_l=[]\n",
    "    cov_l=[]\n",
    "    p_y_l=[]\n",
    "    K=np.unique(y)\n",
    "    p_y=np.zeros((X.shape[0], len(K)))\n",
    "    for i in np.arange(len(K)): \n",
    "        #Calculate: list of means, list of convariances, list of p_y\n",
    "        X0=X[np.where(y==i)[0],:]\n",
    "        mu0=X0.mean(axis=0)\n",
    "        cov0 = np.cov(X0.T)\n",
    "        mu_l.append(mu0)\n",
    "        cov_l.append(cov0)\n",
    "        p_y_l.append(X0.shape[0]/y.shape[0])\n",
    "        #Inference\n",
    "        p_y[:,i:i+1]=gauss_density(X, mu_l[i], cov_l[i])*p_y_l[i]\n",
    "    return (p_y / p_y.sum(axis=1, keepdims=True)).argmax(axis=1)\n",
    "    "
   ]
  },
  {
   "cell_type": "code",
   "execution_count": 5,
   "id": "102c3a40-a460-4a95-a6cf-3f482d20a737",
   "metadata": {},
   "outputs": [
    {
     "name": "stdout",
     "output_type": "stream",
     "text": [
      "Training accuracy: 0.875000\n"
     ]
    }
   ],
   "source": [
    "train_acc = (gda_infer(X,y,None,None,None)==y.reshape(-1)).sum() / X.shape[0]\n",
    "print('Training accuracy: %f' % train_acc)"
   ]
  }
 ],
 "metadata": {
  "kernelspec": {
   "display_name": "Python 3.8.9 64-bit",
   "language": "python",
   "name": "python3"
  },
  "language_info": {
   "codemirror_mode": {
    "name": "ipython",
    "version": 3
   },
   "file_extension": ".py",
   "mimetype": "text/x-python",
   "name": "python",
   "nbconvert_exporter": "python",
   "pygments_lexer": "ipython3",
   "version": "3.8.9"
  },
  "vscode": {
   "interpreter": {
    "hash": "31f2aee4e71d21fbe5cf8b01ff0e069b9275f58929596ceb00d14d90e3e16cd6"
   }
  }
 },
 "nbformat": 4,
 "nbformat_minor": 5
}
