{
 "cells": [
  {
   "cell_type": "markdown",
   "id": "adbf5f8f-3497-462b-bccc-b1af90d599ae",
   "metadata": {},
   "source": [
    "# Exercise 19: Backpropagation for fully connected neural networks\n",
    "\n",
    "Here we test backpropagation for fully connected neural networks. We assume $L$ layers.\n",
    "\n",
    "Final layer is a binary classification layer (sigmoid output, binary cross entropy loss).\n",
    "\n",
    "Intermediate layers are ReLU layers.\n",
    "\n",
    "Let's try training on some synthetic data (such as an annulus).\n",
    "\n",
    "## Training data\n",
    "\n",
    "First, let's synthesize some data:"
   ]
  },
  {
   "cell_type": "code",
   "execution_count": 1,
   "id": "9f416656-2ab6-4350-9800-979b37f58279",
   "metadata": {},
   "outputs": [
    {
     "data": {
      "image/png": "[encoded data removed]",
      "text/plain": [
       "<Figure size 432x288 with 1 Axes>"
      ]
     },
     "metadata": {
      "needs_background": "light"
     },
     "output_type": "display_data"
    }
   ],
   "source": [
    "import numpy as np\n",
    "import cvxopt\n",
    "import matplotlib.pyplot as plt\n",
    "\n",
    "# Gaussian center of the annulus\n",
    "\n",
    "m_per_class = 200\n",
    "\n",
    "mu = np.array([10, 10])\n",
    "sigma = np.array([[10, 0], [0, 10]])\n",
    "X1 = np.random.multivariate_normal(mu, sigma, m_per_class)\n",
    "\n",
    "# Outer ring of annulus\n",
    "\n",
    "r = 10\n",
    "sigma = 3\n",
    "theta = np.random.uniform(0, 2 * np.pi, m_per_class)\n",
    "r = r + np.random.normal(0, sigma, m_per_class)\n",
    "x, y = 10 + np.cos(theta) * r, 10 + np.sin(theta) * r\n",
    "X2 = np.concatenate((x.reshape(-1, 1), y.reshape(-1, 1)), 1)\n",
    "\n",
    "plt.plot(X1[:,0], X1[:,1], 'ro')\n",
    "plt.plot(X2[:,0], X2[:,1], 'bo')\n",
    "plt.show()"
   ]
  },
  {
   "cell_type": "markdown",
   "id": "747bb458-a7cd-4a60-b725-d747bb04d487",
   "metadata": {},
   "source": [
    "## Neural network architecture\n",
    "\n",
    "Now we define the architecture. We need some data structures:\n",
    "weights, biases, activation functions, linear activations, nonlinear activations, deltas.\n",
    "\n",
    "The shape of these all depend on how many units we have per layer.\n",
    "\n",
    "Let's try a model consisting of the two inputs ($x_1$ and $x_2$), two hidden layers,\n",
    "and an output layer. Let's use 4 units in layer 1 and 3 units in layer 2. Since layer\n",
    "3 is the output layer and we have a binary classification problem, the output layer will\n",
    "have just one sigmoid unit. We'll use ReLU for the hidden layers.\n",
    "\n",
    "For the shape of the weight matrices and bias vectors:\n",
    "- $\\mathtt{W}^{[1]}: 4 \\times 2$\n",
    "- $\\mathbf{b}^{[1]}: 4 \\times 1$\n",
    "- $\\mathtt{W}^{[2]}: 3 \\times 4$\n",
    "- $\\mathbf{b}^{[2]}: 3 \\times 1$\n",
    "- $\\mathtt{W}^{[3]}: 1 \\times 3$\n",
    "- $\\mathbf{b}^{[3]}: 1 \\times 1$\n",
    "\n",
    "How should we initialize the weights? There are two main ways:\n",
    "- Small random normal values with mean 0\n",
    "- Xavier-He initialization\n",
    "\n",
    "We'll just use the small random normal values. We'll initialize ReLU biases to 0.5\n",
    "and the sigmoid bias to 0, to keep the expected linear activation in the region where\n",
    "the activations have maximal slope.\n",
    "\n",
    "Let's use Python dictionaries to store $\\texttt{W}^{[l]}$ and $\\mathbf{b}^{[l]}$.\n",
    "\n",
    "As a slightly advanced technique, we'll also use dictionaries to store the\n",
    "nonlinear activation function for each layer $g(\\cdot)$ and the activation functions'\n",
    "derivatives $g'(\\cdot)$."
   ]
  },
  {
   "cell_type": "code",
   "execution_count": 2,
   "id": "bce8dc94-99b8-48ce-b797-c5b348e025b8",
   "metadata": {},
   "outputs": [],
   "source": [
    "W = {}\n",
    "W[1] = np.random.normal(0, 0.1, (4, 2))\n",
    "W[2] = np.random.normal(0, 0.1, (3, 4))\n",
    "W[3] = np.random.normal(0, 0.1, (1, 3))\n",
    "\n",
    "b = {}\n",
    "b[1] = np.zeros((4, 1)) + 0.5\n",
    "b[2] = np.zeros((3, 1)) + 0.5\n",
    "b[3] = np.zeros((1, 1))\n",
    "\n",
    "def sigmoid(z):\n",
    "    return 1 / (1 + np.exp(-z))\n",
    "\n",
    "def sigmoid_der(z):\n",
    "    a = sigmoid(z)\n",
    "    return a * (1 - a)\n",
    "\n",
    "def relu(z):\n",
    "    return np.where(z > 0, z, 0)\n",
    "\n",
    "def relu_der(z):\n",
    "    return np.where(z > 0, 1, 0)\n",
    "\n",
    "g = {}\n",
    "g[1] = relu\n",
    "g[2] = relu\n",
    "g[3] = sigmoid\n",
    "\n",
    "gprime = {}\n",
    "gprime[1] = relu_der\n",
    "gprime[2] = relu_der\n",
    "gprime[3] = sigmoid_der\n"
   ]
  },
  {
   "cell_type": "markdown",
   "id": "a056964d-4233-49f2-8437-771978edf8df",
   "metadata": {},
   "source": [
    "## Forward propagation, backward propagation, and weight update functions\n",
    "\n",
    "Now that we have a network defined according to its weights, biases, and activation functions,\n",
    "we can define the forward, backward, and weight update functions. These just follow the\n",
    "mathematics from the lecture notes."
   ]
  },
  {
   "cell_type": "code",
   "execution_count": 3,
   "id": "75e15d5e-8a6f-4cf5-bd7f-b8e821a4ec06",
   "metadata": {},
   "outputs": [],
   "source": [
    "# Forward propagation\n",
    "\n",
    "def forward(W, b, z, a, g, x):\n",
    "    L = len(W)\n",
    "    a[0] = x\n",
    "    for l in range(1, L+1):\n",
    "        z[l] = W[l] @ a[l-1] + b[l]\n",
    "        a[l] = g[l](z[l])\n",
    "\n",
    "def backward(W, a, z, delta, y):\n",
    "    L = len(W)\n",
    "    dW = {}\n",
    "    db = {}\n",
    "    delta[L] = a[L] - y\n",
    "    for l in range(L, 0, -1):\n",
    "        # Calculate gradient for weights\n",
    "        dW[l] = delta[l] @ a[l-1].T\n",
    "        # Calculate gradient for biases\n",
    "        db[l] = delta[l]\n",
    "        # Calculate previous layer's deltas\n",
    "        if l > 1:\n",
    "            delta[l-1] = np.diag(gprime[l-1](z[l-1]).reshape(-1)) @ W[l].T @ delta[l]\n",
    "    return dW, db\n",
    "\n",
    "def update_weights(W, b, dW, db, alpha):\n",
    "    L = len(W)\n",
    "    for l in range(1, L+1):\n",
    "        W[l] = W[l] - alpha * dW[l]\n",
    "        b[l] = b[l] - alpha * db[l]\n"
   ]
  },
  {
   "cell_type": "markdown",
   "id": "911e5760-35a5-4b29-95ba-91d8a07fed1e",
   "metadata": {},
   "source": [
    "## Training loop\n",
    "\n",
    "Once we have the forward/backward/update functions, we can implement a training loop.\n",
    "\n",
    "Here's code to train with 1000 epochs of stochastic gradient descent with a learning rate of 0.001."
   ]
  },
  {
   "cell_type": "code",
   "execution_count": 4,
   "id": "decea8f3-78eb-47a7-9855-13b95f28933d",
   "metadata": {},
   "outputs": [
    {
     "name": "stdout",
     "output_type": "stream",
     "text": [
      "Epoch 0 loss 0.696228\n",
      "Epoch 100 loss 0.511442\n",
      "Epoch 200 loss 0.497721\n",
      "Epoch 300 loss 0.476395\n",
      "Epoch 400 loss 0.442802\n",
      "Epoch 500 loss 0.413222\n",
      "Epoch 600 loss 0.402626\n",
      "Epoch 700 loss 0.396406\n",
      "Epoch 800 loss 0.373579\n",
      "Epoch 900 loss 0.385056\n"
     ]
    }
   ],
   "source": [
    "\n",
    "X = np.concatenate((X1, X2), 0)\n",
    "y = np.concatenate((np.ones((X1.shape[0], 1)), np.zeros((X2.shape[0], 1))), 0)\n",
    "\n",
    "a = {}\n",
    "z = {}\n",
    "delta = {}\n",
    "\n",
    "epochs = 1000\n",
    "alpha = 0.001\n",
    "m = X.shape[0]\n",
    "L = len(W)\n",
    "\n",
    "for epoch in range(epochs):\n",
    "    index = np.arange(m)\n",
    "    np.random.shuffle(index)\n",
    "    epoch_loss = 0\n",
    "    for iter in range(m):\n",
    "        x = X[index[iter],:].reshape((-1,1))\n",
    "        target = y[index[iter],:].reshape((1,1))\n",
    "        forward(W, b, z, a, g, x)\n",
    "        dW, db = backward(W, a, z, delta, target)\n",
    "        update_weights(W, b, dW, db, alpha)\n",
    "        loss = - (target * np.log(a[L]) + (1 - target) * np.log(1 - a[L]))\n",
    "        epoch_loss += loss\n",
    "    if epoch % 100 == 0:\n",
    "        print('Epoch %d loss %f' % (epoch, epoch_loss / m))\n"
   ]
  },
  {
   "cell_type": "markdown",
   "id": "1adbe465-06a2-4b61-bb68-7c359ebaa524",
   "metadata": {},
   "source": [
    "## Calculate accuracy\n",
    "\n",
    "Once that's done, we can calculate accuracy on a set of paired $(\\mathbf{x},y)$ data:"
   ]
  },
  {
   "cell_type": "code",
   "execution_count": 5,
   "id": "9840736e-aa35-4a0e-a188-d50cf4f71b15",
   "metadata": {},
   "outputs": [
    {
     "name": "stdout",
     "output_type": "stream",
     "text": [
      "Training accuracy: 0.85\n"
     ]
    }
   ],
   "source": [
    "def accuracy(X, y, W, b, g):\n",
    "    m = X.shape[0]\n",
    "    a = {}\n",
    "    z = {}\n",
    "    sum = 0\n",
    "    for i in range(m):\n",
    "        x = X[i,:].reshape((-1,1))\n",
    "        target = y[i,:].reshape((1,1))\n",
    "        forward(W, b, z, a, g, x)\n",
    "        sum += np.where(a[L] > 0.5, 1.0, 0.0) == target\n",
    "    return sum[0,0] / m\n",
    "    \n",
    "print('Training accuracy:', accuracy(X, y, W, b, g))"
   ]
  },
  {
   "cell_type": "code",
   "execution_count": null,
   "id": "d6fa627a-cf16-47a7-8c8e-767beea0d390",
   "metadata": {},
   "outputs": [],
   "source": []
  }
 ],
 "metadata": {
  "kernelspec": {
   "display_name": "Python 3.9.12 ('base')",
   "language": "python",
   "name": "python3"
  },
  "language_info": {
   "codemirror_mode": {
    "name": "ipython",
    "version": 3
   },
   "file_extension": ".py",
   "mimetype": "text/x-python",
   "name": "python",
   "nbconvert_exporter": "python",
   "pygments_lexer": "ipython3",
   "version": "3.9.12"
  },
  "vscode": {
   "interpreter": {
    "hash": "b8e2edd04290db5de47ecd859b998e39e98690aa0bf4ac3f16002de3e35da010"
   }
  }
 },
 "nbformat": 4,
 "nbformat_minor": 5
}
