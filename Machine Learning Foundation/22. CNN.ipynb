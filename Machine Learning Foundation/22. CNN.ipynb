{
 "cells": [
  {
   "cell_type": "markdown",
   "id": "dbd4719d-b997-4b0f-a451-1b4d2dc88229",
   "metadata": {},
   "source": [
    "# Exercise 21: CNN in PyTorch\n",
    "\n",
    "PyTorch and other libraries like it use the concept of a TENSOR (multidimensional array of data) to store data\n",
    "and weights and biases and other things too.\n",
    "\n",
    "Let's implement a simple CNN in PyTorch. We will try to classify the MNIST handwritten digits dataset."
   ]
  },
  {
   "cell_type": "code",
   "execution_count": 8,
   "id": "6718dbbc",
   "metadata": {},
   "outputs": [
    {
     "name": "stdout",
     "output_type": "stream",
     "text": [
      "Requirement already satisfied: python-mnist in /Users/yhuynh/opt/anaconda3/lib/python3.9/site-packages (0.7)\n",
      "Note: you may need to restart the kernel to use updated packages.\n"
     ]
    }
   ],
   "source": [
    "pip install python-mnist"
   ]
  },
  {
   "cell_type": "code",
   "execution_count": 9,
   "id": "3ec40c87-84c8-41c3-89ae-55cda851b900",
   "metadata": {},
   "outputs": [],
   "source": [
    "import torch\n",
    "import torchvision\n",
    "import os\n",
    "\n",
    "import os\n",
    "\n",
    "os.environ[\"http_proxy\"] = 'http://192.41.170.23:3128'\n",
    "os.environ[\"https_proxy\"] = 'http://192.41.170.23:3128'\n",
    "\n",
    "transform = torchvision.transforms.Compose([torchvision.transforms.ToTensor()])\n",
    "\n",
    "mnist_train = torchvision.datasets.MNIST('./data', train=True, transform=transform)\n",
    "mnist_val = torchvision.datasets.MNIST('./data', train=False, transform=transform)"
   ]
  },
  {
   "cell_type": "code",
   "execution_count": 10,
   "id": "ba36a29c-5cc8-4f3e-b77c-15476380046a",
   "metadata": {},
   "outputs": [
    {
     "data": {
      "image/png": "[encoded data removed]",
      "text/plain": [
       "<Figure size 432x288 with 1 Axes>"
      ]
     },
     "metadata": {
      "needs_background": "light"
     },
     "output_type": "display_data"
    }
   ],
   "source": [
    "import matplotlib.pyplot as plt\n",
    "\n",
    "img = mnist_train[12][0]\n",
    "label = mnist_train[12][1]\n",
    "plt.imshow(img.reshape(28, 28), cmap='gray')\n",
    "plt.title('Image with label %d' % (label))\n",
    "plt.show()\n"
   ]
  },
  {
   "cell_type": "code",
   "execution_count": 11,
   "id": "75a53001-c2fd-48c1-8789-ccccad3b5fe7",
   "metadata": {},
   "outputs": [],
   "source": [
    "# Create data loaders to load batches of images from the training + validation set stored on disk\n",
    "\n",
    "batch_size = 1024\n",
    "mnist_train_loader = torch.utils.data.DataLoader(mnist_train, batch_size=batch_size, shuffle=True, num_workers=1)\n",
    "mnist_val_loader = torch.utils.data.DataLoader(mnist_val, batch_size=batch_size, shuffle=False, num_workers=1)\n"
   ]
  },
  {
   "cell_type": "code",
   "execution_count": 12,
   "id": "1e8075e2-7d10-4b9e-aa07-477e4e6e0651",
   "metadata": {},
   "outputs": [],
   "source": [
    "# The CNN model\n",
    "\n",
    "class CNN_Model(torch.nn.Module):\n",
    "    \n",
    "    def __init__(self):\n",
    "        super().__init__()\n",
    "        # Define the layers of the model\n",
    "        self.conv1 = torch.nn.Conv2d(1, 10, kernel_size=5)  # Result: 10 x 24 x 24\n",
    "        self.relu1 = torch.nn.ReLU()\n",
    "        self.conv2 = torch.nn.Conv2d(10, 20, kernel_size=5) # Result: 20 x 20 x 20\n",
    "        self.maxpool2 = torch.nn.MaxPool2d(2)               # Result: 20 x 10 x 10\n",
    "        self.relu2 = torch.nn.ReLU()\n",
    "        self.fc1 = torch.nn.Linear(2000, 50)\n",
    "        self.fc2 = torch.nn.Linear(50, 10)\n",
    "        \n",
    "    def forward(self, x):\n",
    "        x = self.conv1(x)\n",
    "        x = self.relu1(x)\n",
    "        x = self.conv2(x)\n",
    "        x = self.maxpool2(x)\n",
    "        x = self.relu2(x)\n",
    "        x = x.view(x.size(0),-1) #x.view(-1, 2000)\n",
    "        x = self.fc1(x)\n",
    "        x = torch.nn.functional.relu(x)\n",
    "        x = self.fc2(x)\n",
    "        return x\n",
    "\n",
    "\n",
    "    "
   ]
  },
  {
   "cell_type": "code",
   "execution_count": 13,
   "id": "d90f81bf-28d1-44a0-b131-07ceacf46eff",
   "metadata": {},
   "outputs": [],
   "source": [
    "# Create an instance of the model\n",
    "\n",
    "net = CNN_Model()\n",
    "\n",
    "#if torch.cuda.is_available:\n",
    " #   net = net.cuda()\n",
    "if torch.cuda.is_available():\n",
    "    net = net.cuda()\n",
    "else: net=net.cpu()\n",
    "# Loss function\n",
    "\n",
    "criterion = torch.nn.CrossEntropyLoss()\n",
    "\n",
    "# Optimizer\n",
    "\n",
    "optimizer = torch.optim.SGD(net.parameters(), lr=0.01, momentum=0.9)\n"
   ]
  },
  {
   "cell_type": "code",
   "execution_count": 14,
   "id": "c6a7ad30-e0a8-48c9-9e4d-674b01f33459",
   "metadata": {},
   "outputs": [
    {
     "name": "stdout",
     "output_type": "stream",
     "text": [
      "Epoch 1/20, Train loss 1.8725, Train acc 39.13, Val loss 0.5423, Val acc 83.00\n",
      "Epoch 2/20, Train loss 0.4347, Train acc 86.81, Val loss 0.3258, Val acc 89.64\n",
      "Epoch 3/20, Train loss 0.2922, Train acc 91.21, Val loss 0.2439, Val acc 92.57\n",
      "Epoch 4/20, Train loss 0.2316, Train acc 93.15, Val loss 0.1955, Val acc 94.13\n",
      "Epoch 5/20, Train loss 0.1920, Train acc 94.30, Val loss 0.1665, Val acc 94.86\n",
      "Epoch 6/20, Train loss 0.1633, Train acc 95.05, Val loss 0.1484, Val acc 95.65\n",
      "Epoch 7/20, Train loss 0.1390, Train acc 95.83, Val loss 0.1263, Val acc 96.27\n",
      "Epoch 8/20, Train loss 0.1255, Train acc 96.20, Val loss 0.1193, Val acc 96.35\n",
      "Epoch 9/20, Train loss 0.1121, Train acc 96.62, Val loss 0.1058, Val acc 96.90\n",
      "Epoch 10/20, Train loss 0.0997, Train acc 97.01, Val loss 0.0943, Val acc 97.13\n",
      "Epoch 11/20, Train loss 0.0931, Train acc 97.18, Val loss 0.0829, Val acc 97.40\n",
      "Epoch 12/20, Train loss 0.0827, Train acc 97.48, Val loss 0.0789, Val acc 97.65\n",
      "Epoch 13/20, Train loss 0.0781, Train acc 97.66, Val loss 0.0742, Val acc 97.82\n",
      "Epoch 14/20, Train loss 0.0713, Train acc 97.82, Val loss 0.0705, Val acc 97.86\n",
      "Epoch 15/20, Train loss 0.0670, Train acc 97.97, Val loss 0.0684, Val acc 97.94\n",
      "Epoch 16/20, Train loss 0.0639, Train acc 98.04, Val loss 0.0633, Val acc 98.02\n",
      "Epoch 17/20, Train loss 0.0591, Train acc 98.20, Val loss 0.0686, Val acc 97.96\n",
      "Epoch 18/20, Train loss 0.0571, Train acc 98.29, Val loss 0.0623, Val acc 98.13\n",
      "Epoch 19/20, Train loss 0.0528, Train acc 98.43, Val loss 0.0629, Val acc 98.10\n",
      "Epoch 20/20, Train loss 0.0521, Train acc 98.38, Val loss 0.0574, Val acc 98.19\n"
     ]
    }
   ],
   "source": [
    "# Training loop\n",
    "\n",
    "num_epochs = 20\n",
    "\n",
    "train_loss = []\n",
    "valid_loss = []\n",
    "train_acc = []\n",
    "valid_acc = []\n",
    "\n",
    "for epoch in range(num_epochs):\n",
    "    # Training set\n",
    "    epoch_loss = 0\n",
    "    correct = 0\n",
    "    iterations = 0\n",
    "    net.train()\n",
    "    for i, (inputs, targets) in enumerate(mnist_train_loader):\n",
    "        if torch.cuda.is_available():\n",
    "            inputs = inputs.cuda()\n",
    "            targets = targets.cuda()\n",
    "        # Clear out the optimizer's gradient estimates\n",
    "        optimizer.zero_grad()\n",
    "        # Forward pass\n",
    "        outputs = net(inputs)  # like forward() we wrote last week\n",
    "        loss = criterion(outputs, targets) # loss\n",
    "        epoch_loss += loss.item()\n",
    "        loss.backward()  # backprop\n",
    "        optimizer.step() # adjust weights\n",
    "        _, predicted = torch.max(outputs.data, 1)\n",
    "        correct += (predicted == targets.data).sum()\n",
    "        iterations += 1\n",
    "    # Record training loss\n",
    "    train_loss.append(epoch_loss / iterations)\n",
    "    # Record training accuracy\n",
    "    train_acc.append(100 * correct / len(mnist_train_loader.dataset))\n",
    "\n",
    "    # Validation set\n",
    "    epoch_loss = 0\n",
    "    correct = 0\n",
    "    iterations = 0\n",
    "    \n",
    "    net.eval()\n",
    "    for i, (inputs, targets) in enumerate(mnist_val_loader):\n",
    "        if torch.cuda.is_available():\n",
    "            inputs = inputs.cuda()\n",
    "            targets = targets.cuda()\n",
    "        # Forward pass\n",
    "        outputs = net(inputs)  # like forward() we wrote last week\n",
    "        loss = criterion(outputs, targets) # loss\n",
    "        epoch_loss += loss.item()\n",
    "        _, predicted = torch.max(outputs.data, 1)\n",
    "        correct += (predicted == targets.data).sum()\n",
    "        iterations += 1\n",
    "        \n",
    "    # Record validation loss\n",
    "    valid_loss.append(epoch_loss / iterations)\n",
    "    # Record validation accuracy\n",
    "    valid_acc.append(100 * correct / len(mnist_val_loader.dataset))\n",
    "    \n",
    "    print('Epoch %d/%d, Train loss %.4f, Train acc %.2f, Val loss %.4f, Val acc %.2f' % (\n",
    "        epoch+1, num_epochs, train_loss[-1], train_acc[-1], valid_loss[-1], valid_acc[-1]))\n",
    "\n",
    "torch.save(net.state_dict(), './net-weights.pth')\n"
   ]
  },
  {
   "cell_type": "code",
   "execution_count": 19,
   "id": "dd4b4eda-51b7-48e6-872e-0284e6e93c86",
   "metadata": {},
   "outputs": [
    {
     "data": {
      "text/plain": [
       "<function matplotlib.pyplot.show(close=None, block=None)>"
      ]
     },
     "execution_count": 19,
     "metadata": {},
     "output_type": "execute_result"
    },
    {
     "data": {
      "image/png": "[encoded data removed]",
      "text/plain": [
       "<Figure size 1152x576 with 2 Axes>"
      ]
     },
     "metadata": {
      "needs_background": "light"
     },
     "output_type": "display_data"
    }
   ],
   "source": [
    "fig = plt.figure(figsize=(16, 8))\n",
    "plt.subplot(1, 2, 1)\n",
    "plt.plot(train_loss, label='Training loss')\n",
    "plt.plot(valid_loss, label='Validation loss')\n",
    "plt.title('Loss')\n",
    "plt.legend()\n",
    "plt.subplot(1, 2, 2)\n",
    "plt.plot([x.cpu() for x in train_acc], label='Training accuracy')\n",
    "plt.plot([x.cpu() for x in valid_acc], label='Validation accuracy')\n",
    "plt.title('Accuracy')\n",
    "plt.legend()\n",
    "plt.show"
   ]
  },
  {
   "cell_type": "code",
   "execution_count": 20,
   "id": "d33a0891-f980-4be5-8daf-b9541e7d1951",
   "metadata": {},
   "outputs": [
    {
     "data": {
      "image/png": "[encoded data removed]",
      "text/plain": [
       "<Figure size 432x288 with 1 Axes>"
      ]
     },
     "metadata": {
      "needs_background": "light"
     },
     "output_type": "display_data"
    }
   ],
   "source": [
    "if torch.cuda.is_available():\n",
    "    net = net.cuda()\n",
    "else: net=net.cpu()\n",
    "\n",
    "image_index = 9\n",
    "img = mnist_val[image_index][0].view((1, 1, 28, 28))\n",
    "label = mnist_val[image_index][1]\n",
    "plt.imshow(img[0,0])\n",
    "plt.show()\n",
    "net.eval()\n",
    "if torch.cuda.is_available:\n",
    "    img = img.cpu()\n",
    "output = net(img)"
   ]
  },
  {
   "cell_type": "code",
   "execution_count": 17,
   "id": "26548603-2241-474c-9170-321f8b5582dd",
   "metadata": {},
   "outputs": [
    {
     "data": {
      "text/plain": [
       "tensor([[ -5.4971, -14.2376,  -4.5644,   1.7312,   2.8372,  -2.2554, -11.8152,\n",
       "           6.6830,   3.5353,  12.9458]], grad_fn=<AddmmBackward0>)"
      ]
     },
     "execution_count": 17,
     "metadata": {},
     "output_type": "execute_result"
    }
   ],
   "source": [
    "output"
   ]
  },
  {
   "cell_type": "code",
   "execution_count": 18,
   "id": "fe08ebe9-72df-4e07-a656-8df77bb5d020",
   "metadata": {},
   "outputs": [
    {
     "data": {
      "text/plain": [
       "torch.return_types.max(\n",
       "values=tensor([12.9458], grad_fn=<MaxBackward0>),\n",
       "indices=tensor([9]))"
      ]
     },
     "execution_count": 18,
     "metadata": {},
     "output_type": "execute_result"
    }
   ],
   "source": [
    "torch.max(output, 1)"
   ]
  },
  {
   "cell_type": "markdown",
   "id": "5c4e55e8-10a2-4f4a-bfdf-4e4ab304bf47",
   "metadata": {},
   "source": [
    "## Exercise 22!\n",
    "\n",
    "Try the same thing with cats and dogs!\n",
    "\n",
    "https://www.kaggle.com/c/dogs-vs-cats\n"
   ]
  },
  {
   "cell_type": "code",
   "execution_count": null,
   "id": "38f1e0ad-d678-4324-9787-30b4acdd8436",
   "metadata": {},
   "outputs": [],
   "source": []
  }
 ],
 "metadata": {
  "kernelspec": {
   "display_name": "Python 3 (ipykernel)",
   "language": "python",
   "name": "python3"
  },
  "language_info": {
   "codemirror_mode": {
    "name": "ipython",
    "version": 3
   },
   "file_extension": ".py",
   "mimetype": "text/x-python",
   "name": "python",
   "nbconvert_exporter": "python",
   "pygments_lexer": "ipython3",
   "version": "3.9.12"
  },
  "vscode": {
   "interpreter": {
    "hash": "b8e2edd04290db5de47ecd859b998e39e98690aa0bf4ac3f16002de3e35da010"
   }
  }
 },
 "nbformat": 4,
 "nbformat_minor": 5
}
